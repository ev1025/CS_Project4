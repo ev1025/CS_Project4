{
  "nbformat": 4,
  "nbformat_minor": 0,
  "metadata": {
    "colab": {
      "provenance": [],
      "mount_file_id": "1BfBGcYCWnLdpROkJb0_TtExsViZBWc1C",
      "authorship_tag": "ABX9TyPl5n77uYFIs0LtMATuFtDe",
      "include_colab_link": true
    },
    "kernelspec": {
      "name": "python3",
      "display_name": "Python 3"
    },
    "language_info": {
      "name": "python"
    },
    "accelerator": "GPU",
    "gpuClass": "standard"
  },
  "cells": [
    {
      "cell_type": "markdown",
      "metadata": {
        "id": "view-in-github",
        "colab_type": "text"
      },
      "source": [
        "<a href=\"https://colab.research.google.com/github/ev1025/codestates-project4/blob/main/project.ipynb\" target=\"_parent\"><img src=\"https://colab.research.google.com/assets/colab-badge.svg\" alt=\"Open In Colab\"/></a>"
      ]
    },
    {
      "cell_type": "markdown",
      "source": [
        "**1. 관심분야**\n",
        "- 패션은 정말 사소한 디테일 하나에 옷이 잘팔리고 팔리지 않고가 결정 되기 때문에 의류의 다양한 특징들을 잘 추출해서 좋은 옷을 많이 알리고 싶다.\n",
        "\n",
        "**2. 데이터 선정이유**\n",
        "- 대부분의 패션 데이터들이 일단 크기가 방대하여 현실적으로 시도가 불가능해서 좋은 자료가 있으나, 일단 시도부터 해보자는 마음으로 fashion-mnist를 선택하였습니다.\n",
        "- 패션은 단추나 문양 하나만 바뀌어도 다른 것이 되기 때문에 인간이 직접 구분하는 것에는 한계가 있어서 기계로 대체하면 훨씬 효율적일 것이라고 생각했습니다.\n",
        "\n",
        "**3. 가설수립**\n",
        "- SNS나 연예기사, 패션쇼 등을 통해서 패션의 트렌드분석\n",
        "- 이미지를 입력했을 때, 이미지에 있는 옷의 색,질감,종류 등을 분석\n",
        "- 위에서 분석한 자료를 바탕으로 비슷한 옷이나 잘 어울리는 옷을 추천\n",
        "\n",
        "**4. 전처리, 딥러닝**   \n",
        "**5. 모델검증**   \n",
        "**6. 느낀점 한계점**   "
      ],
      "metadata": {
        "id": "b05avxi9C_h6"
      }
    },
    {
      "cell_type": "markdown",
      "source": [
        "# cnn"
      ],
      "metadata": {
        "id": "9TQuFG3e_J_p"
      }
    },
    {
      "cell_type": "code",
      "source": [
        "from tensorflow.keras.datasets import fashion_mnist\n",
        "from tensorflow.keras.models import Sequential\n",
        "from tensorflow.keras.layers import Dense, Flatten, Dropout, BatchNormalization, Conv2D, Conv2DTranspose, MaxPooling2D\n",
        "from tensorflow.keras.models import Model\n",
        "from sklearn.model_selection import train_test_split\n",
        "from tensorflow.keras.preprocessing import image\n",
        "\n",
        "import numpy as np\n",
        "import pandas as pd\n",
        "import matplotlib.pyplot as plt\n",
        "import tensorflow as tf\n",
        "import tensorflow.keras\n",
        "import keras\n",
        "\n",
        "import os"
      ],
      "metadata": {
        "id": "AmtdXelPF60I"
      },
      "execution_count": null,
      "outputs": []
    },
    {
      "cell_type": "code",
      "source": [
        "np.random.seed(42)\n",
        "tf.random.set_seed(42)"
      ],
      "metadata": {
        "id": "TveUVhbFL0jK"
      },
      "execution_count": null,
      "outputs": []
    },
    {
      "cell_type": "code",
      "source": [
        "# 데이터 불러오기\n",
        "(X_train,y_train),(X_test, y_test) = fashion_mnist.load_data()\n",
        "print(f\"X_train : {X_train.shape}, X_test : {X_test.shape}\")"
      ],
      "metadata": {
        "colab": {
          "base_uri": "https://localhost:8080/"
        },
        "id": "wWdCpZNoMQ1T",
        "outputId": "2508e79e-f05d-43ee-8de7-44c2c630c1a2"
      },
      "execution_count": null,
      "outputs": [
        {
          "output_type": "stream",
          "name": "stdout",
          "text": [
            "Downloading data from https://storage.googleapis.com/tensorflow/tf-keras-datasets/train-labels-idx1-ubyte.gz\n",
            "29515/29515 [==============================] - 0s 0us/step\n",
            "Downloading data from https://storage.googleapis.com/tensorflow/tf-keras-datasets/train-images-idx3-ubyte.gz\n",
            "26421880/26421880 [==============================] - 1s 0us/step\n",
            "Downloading data from https://storage.googleapis.com/tensorflow/tf-keras-datasets/t10k-labels-idx1-ubyte.gz\n",
            "5148/5148 [==============================] - 0s 0us/step\n",
            "Downloading data from https://storage.googleapis.com/tensorflow/tf-keras-datasets/t10k-images-idx3-ubyte.gz\n",
            "4422102/4422102 [==============================] - 0s 0us/step\n",
            "X_train : (60000, 28, 28), X_test : (10000, 28, 28)\n"
          ]
        }
      ]
    },
    {
      "cell_type": "code",
      "source": [
        "# 모델 정규화(Softmax)\n",
        "X_train = X_train / 255.\n",
        "X_test = X_test /255."
      ],
      "metadata": {
        "id": "NBE7YHAYMh0W"
      },
      "execution_count": null,
      "outputs": []
    },
    {
      "cell_type": "code",
      "source": [
        "# validation 분류\n",
        "X_train,X_val, y_train,y_val = train_test_split(X_train, y_train, random_state=42, test_size=0.25)\n",
        "print(X_train.shape, X_val.shape)"
      ],
      "metadata": {
        "colab": {
          "base_uri": "https://localhost:8080/"
        },
        "id": "KNjwl93eOxvB",
        "outputId": "cc0f4060-6dfc-4ee4-a4e8-98c6a80cdbcc"
      },
      "execution_count": null,
      "outputs": [
        {
          "output_type": "stream",
          "name": "stdout",
          "text": [
            "(45000, 28, 28) (15000, 28, 28)\n"
          ]
        }
      ]
    },
    {
      "cell_type": "code",
      "source": [
        "# 라벨 개수\n",
        "np.unique(y_train)"
      ],
      "metadata": {
        "colab": {
          "base_uri": "https://localhost:8080/"
        },
        "id": "A-yseZv5NoX-",
        "outputId": "ebe54021-ee49-46b4-9d21-94ea963e422f"
      },
      "execution_count": null,
      "outputs": [
        {
          "output_type": "execute_result",
          "data": {
            "text/plain": [
              "array([0, 1, 2, 3, 4, 5, 6, 7, 8, 9], dtype=uint8)"
            ]
          },
          "metadata": {},
          "execution_count": 6
        }
      ]
    },
    {
      "cell_type": "code",
      "source": [
        "# 특징 추출을 위한 모델링\n",
        "cnn_model = Sequential()\n",
        "cnn_model.add(Conv2D(filters=32, kernel_size=(3, 3),      \n",
        "                     input_shape=(28,28,1), activation='relu', padding='same'))\n",
        "cnn_model.add(BatchNormalization())\n",
        "cnn_model.add(MaxPooling2D(pool_size=(2, 2)))\n",
        "cnn_model.add(Dropout(0.2))\n",
        "\n",
        "cnn_model.add(Conv2D(filters=64, kernel_size=(3, 3),      \n",
        "                     input_shape=(28,28,1), activation='relu', padding='same'))\n",
        "cnn_model.add(BatchNormalization())\n",
        "cnn_model.add(MaxPooling2D(pool_size=(2, 2)))\n",
        "cnn_model.add(Dropout(0.2))\n",
        "\n",
        "cnn_model.add(Flatten())\n",
        "cnn_model.add(Dense(units=128, activation='relu'))\n",
        "cnn_model.add(Dropout(0.2))\n",
        "cnn_model.add(Dense(units=10, activation='softmax'))"
      ],
      "metadata": {
        "id": "ErTwPBOpPRz_"
      },
      "execution_count": null,
      "outputs": []
    },
    {
      "cell_type": "code",
      "source": [
        "cnn_model.summary()"
      ],
      "metadata": {
        "colab": {
          "base_uri": "https://localhost:8080/"
        },
        "id": "aJyzZfjUQ7V4",
        "outputId": "ec2a857c-76eb-4659-aa91-f2a5e8bc7df1"
      },
      "execution_count": null,
      "outputs": [
        {
          "output_type": "stream",
          "name": "stdout",
          "text": [
            "Model: \"sequential\"\n",
            "_________________________________________________________________\n",
            " Layer (type)                Output Shape              Param #   \n",
            "=================================================================\n",
            " conv2d (Conv2D)             (None, 28, 28, 32)        320       \n",
            "                                                                 \n",
            " batch_normalization (BatchN  (None, 28, 28, 32)       128       \n",
            " ormalization)                                                   \n",
            "                                                                 \n",
            " max_pooling2d (MaxPooling2D  (None, 14, 14, 32)       0         \n",
            " )                                                               \n",
            "                                                                 \n",
            " dropout (Dropout)           (None, 14, 14, 32)        0         \n",
            "                                                                 \n",
            " conv2d_1 (Conv2D)           (None, 14, 14, 64)        18496     \n",
            "                                                                 \n",
            " batch_normalization_1 (Batc  (None, 14, 14, 64)       256       \n",
            " hNormalization)                                                 \n",
            "                                                                 \n",
            " max_pooling2d_1 (MaxPooling  (None, 7, 7, 64)         0         \n",
            " 2D)                                                             \n",
            "                                                                 \n",
            " dropout_1 (Dropout)         (None, 7, 7, 64)          0         \n",
            "                                                                 \n",
            " flatten (Flatten)           (None, 3136)              0         \n",
            "                                                                 \n",
            " dense (Dense)               (None, 128)               401536    \n",
            "                                                                 \n",
            " dropout_2 (Dropout)         (None, 128)               0         \n",
            "                                                                 \n",
            " dense_1 (Dense)             (None, 10)                1290      \n",
            "                                                                 \n",
            "=================================================================\n",
            "Total params: 422,026\n",
            "Trainable params: 421,834\n",
            "Non-trainable params: 192\n",
            "_________________________________________________________________\n"
          ]
        }
      ]
    },
    {
      "cell_type": "code",
      "source": [
        "cnn_model.compile(optimizer='adam',\n",
        "                  loss = 'sparse_categorical_crossentropy',\n",
        "                  metrics='acc'\n",
        "                  )"
      ],
      "metadata": {
        "id": "v8_UNBN3RZVW"
      },
      "execution_count": null,
      "outputs": []
    },
    {
      "cell_type": "code",
      "source": [
        "checkpoint_filepath = \"cnn_1.hdf5\"\n",
        "\n",
        "early_stop = keras.callbacks.EarlyStopping(monitor='val_loss', min_delta=0, patience=10, verbose=1)"
      ],
      "metadata": {
        "id": "NkoKE3RASmQy"
      },
      "execution_count": null,
      "outputs": []
    },
    {
      "cell_type": "code",
      "source": [
        "cnn_best = tf.keras.callbacks.ModelCheckpoint(\n",
        "    filepath = checkpoint_filepath,\n",
        "    monitor = 'val_loss',\n",
        "    save_best_only = True,\n",
        "    save_weight_only = True,\n",
        "    mode = 'auto',\n",
        "    save_freq='epoch'\n",
        ")"
      ],
      "metadata": {
        "id": "1baWY8xGSsi4"
      },
      "execution_count": null,
      "outputs": []
    },
    {
      "cell_type": "code",
      "source": [
        "cnn_1 = cnn_model.fit(X_train,y_train,\n",
        "                      batch_size=32,\n",
        "                      epochs = 20,\n",
        "                      validation_data = (X_val, y_val),\n",
        "                      callbacks=[early_stop, cnn_best]\n",
        "                      )"
      ],
      "metadata": {
        "colab": {
          "base_uri": "https://localhost:8080/"
        },
        "id": "UcrJ4F9-Rxzb",
        "outputId": "44254298-238c-4937-c6b1-e86e0b24996d"
      },
      "execution_count": null,
      "outputs": [
        {
          "output_type": "stream",
          "name": "stdout",
          "text": [
            "Epoch 1/20\n",
            "1407/1407 [==============================] - 18s 5ms/step - loss: 0.4980 - acc: 0.8213 - val_loss: 0.3609 - val_acc: 0.8715\n",
            "Epoch 2/20\n",
            "1407/1407 [==============================] - 7s 5ms/step - loss: 0.3359 - acc: 0.8779 - val_loss: 0.2728 - val_acc: 0.8987\n",
            "Epoch 3/20\n",
            "1407/1407 [==============================] - 9s 6ms/step - loss: 0.2957 - acc: 0.8906 - val_loss: 0.2663 - val_acc: 0.8999\n",
            "Epoch 4/20\n",
            "1407/1407 [==============================] - 12s 9ms/step - loss: 0.2701 - acc: 0.9010 - val_loss: 0.2830 - val_acc: 0.8971\n",
            "Epoch 5/20\n",
            "1407/1407 [==============================] - 13s 9ms/step - loss: 0.2576 - acc: 0.9051 - val_loss: 0.2625 - val_acc: 0.9064\n",
            "Epoch 6/20\n",
            "1407/1407 [==============================] - 10s 7ms/step - loss: 0.2409 - acc: 0.9105 - val_loss: 0.2589 - val_acc: 0.9030\n",
            "Epoch 7/20\n",
            "1407/1407 [==============================] - 7s 5ms/step - loss: 0.2305 - acc: 0.9136 - val_loss: 0.2855 - val_acc: 0.9018\n",
            "Epoch 8/20\n",
            "1407/1407 [==============================] - 7s 5ms/step - loss: 0.2155 - acc: 0.9198 - val_loss: 0.4864 - val_acc: 0.8506\n",
            "Epoch 9/20\n",
            "1407/1407 [==============================] - 7s 5ms/step - loss: 0.2063 - acc: 0.9236 - val_loss: 0.3422 - val_acc: 0.8891\n",
            "Epoch 10/20\n",
            "1407/1407 [==============================] - 11s 8ms/step - loss: 0.1992 - acc: 0.9267 - val_loss: 0.2353 - val_acc: 0.9212\n",
            "Epoch 11/20\n",
            "1407/1407 [==============================] - 11s 8ms/step - loss: 0.1921 - acc: 0.9280 - val_loss: 0.2496 - val_acc: 0.9169\n",
            "Epoch 12/20\n",
            "1407/1407 [==============================] - 8s 5ms/step - loss: 0.1829 - acc: 0.9315 - val_loss: 0.2251 - val_acc: 0.9221\n",
            "Epoch 13/20\n",
            "1407/1407 [==============================] - 10s 7ms/step - loss: 0.1762 - acc: 0.9331 - val_loss: 0.3121 - val_acc: 0.9034\n",
            "Epoch 14/20\n",
            "1407/1407 [==============================] - 8s 6ms/step - loss: 0.1725 - acc: 0.9355 - val_loss: 0.2339 - val_acc: 0.9243\n",
            "Epoch 15/20\n",
            "1407/1407 [==============================] - 7s 5ms/step - loss: 0.1640 - acc: 0.9402 - val_loss: 0.2251 - val_acc: 0.9260\n",
            "Epoch 16/20\n",
            "1407/1407 [==============================] - 7s 5ms/step - loss: 0.1567 - acc: 0.9411 - val_loss: 0.2251 - val_acc: 0.9272\n",
            "Epoch 17/20\n",
            "1407/1407 [==============================] - 7s 5ms/step - loss: 0.1512 - acc: 0.9430 - val_loss: 0.2595 - val_acc: 0.9253\n",
            "Epoch 18/20\n",
            "1407/1407 [==============================] - 7s 5ms/step - loss: 0.1477 - acc: 0.9440 - val_loss: 0.2948 - val_acc: 0.9094\n",
            "Epoch 19/20\n",
            "1407/1407 [==============================] - 7s 5ms/step - loss: 0.1466 - acc: 0.9464 - val_loss: 0.2394 - val_acc: 0.9251\n",
            "Epoch 20/20\n",
            "1407/1407 [==============================] - 7s 5ms/step - loss: 0.1409 - acc: 0.9475 - val_loss: 0.2690 - val_acc: 0.9177\n"
          ]
        }
      ]
    },
    {
      "cell_type": "code",
      "source": [
        "cnn_model.load_weights(checkpoint_filepath)"
      ],
      "metadata": {
        "id": "3P7pyzzKTbz0"
      },
      "execution_count": null,
      "outputs": []
    },
    {
      "cell_type": "code",
      "source": [
        "cnn_model.evaluate(X_test, y_test)"
      ],
      "metadata": {
        "colab": {
          "base_uri": "https://localhost:8080/"
        },
        "id": "6IMf1YtdT_Lb",
        "outputId": "2e615cf5-b4ae-4a0e-e022-5eae7ebff5c4"
      },
      "execution_count": null,
      "outputs": [
        {
          "output_type": "stream",
          "name": "stdout",
          "text": [
            "313/313 [==============================] - 1s 4ms/step - loss: 0.2516 - acc: 0.9211\n"
          ]
        },
        {
          "output_type": "execute_result",
          "data": {
            "text/plain": [
              "[0.25157713890075684, 0.9211000204086304]"
            ]
          },
          "metadata": {},
          "execution_count": 14
        }
      ]
    },
    {
      "cell_type": "code",
      "source": [
        "# train 라벨\n",
        "label_train = y_train\n",
        "label_train = pd.DataFrame(label_train)\n",
        "label_train = label_train.replace(0,'Top').replace(1,'pant').replace(2,'pullover').replace(3,'dress').replace(4,'coat').replace(5,'Sandals').replace(6,'Shirt').replace(7,'Sneaker').replace(8,'Bag').replace(9,'Ankle Boots')\n",
        "\n",
        "# test 라벨\n",
        "label_test = y_test\n",
        "label_test = pd.DataFrame(label_test)\n",
        "label_test = label_test.replace(0,'Top').replace(1,'pant').replace(2,'pullover').replace(3,'dress').replace(4,'coat').replace(5,'Sandals').replace(6,'Shirt').replace(7,'Sneaker').replace(8,'Bag').replace(9,'Ankle Boots')\n",
        "\n",
        "# 목록\n",
        "labels = ['TOP','Pants','Pullover','Dress','Coat','Sandals','Shirt','Sneaker','Bag','Ankle Boots']\n",
        "labels = pd.DataFrame(labels)\n",
        "labels"
      ],
      "metadata": {
        "colab": {
          "base_uri": "https://localhost:8080/",
          "height": 363
        },
        "id": "VLxFRqDwYZLM",
        "outputId": "07332162-a5e9-4b26-a86c-48c736058821"
      },
      "execution_count": null,
      "outputs": [
        {
          "output_type": "execute_result",
          "data": {
            "text/plain": [
              "             0\n",
              "0          TOP\n",
              "1        Pants\n",
              "2     Pullover\n",
              "3        Dress\n",
              "4         Coat\n",
              "5      Sandals\n",
              "6        Shirt\n",
              "7      Sneaker\n",
              "8          Bag\n",
              "9  Ankle Boots"
            ],
            "text/html": [
              "\n",
              "  <div id=\"df-5988ce05-8f48-4a4a-8d88-9a99db68b015\">\n",
              "    <div class=\"colab-df-container\">\n",
              "      <div>\n",
              "<style scoped>\n",
              "    .dataframe tbody tr th:only-of-type {\n",
              "        vertical-align: middle;\n",
              "    }\n",
              "\n",
              "    .dataframe tbody tr th {\n",
              "        vertical-align: top;\n",
              "    }\n",
              "\n",
              "    .dataframe thead th {\n",
              "        text-align: right;\n",
              "    }\n",
              "</style>\n",
              "<table border=\"1\" class=\"dataframe\">\n",
              "  <thead>\n",
              "    <tr style=\"text-align: right;\">\n",
              "      <th></th>\n",
              "      <th>0</th>\n",
              "    </tr>\n",
              "  </thead>\n",
              "  <tbody>\n",
              "    <tr>\n",
              "      <th>0</th>\n",
              "      <td>TOP</td>\n",
              "    </tr>\n",
              "    <tr>\n",
              "      <th>1</th>\n",
              "      <td>Pants</td>\n",
              "    </tr>\n",
              "    <tr>\n",
              "      <th>2</th>\n",
              "      <td>Pullover</td>\n",
              "    </tr>\n",
              "    <tr>\n",
              "      <th>3</th>\n",
              "      <td>Dress</td>\n",
              "    </tr>\n",
              "    <tr>\n",
              "      <th>4</th>\n",
              "      <td>Coat</td>\n",
              "    </tr>\n",
              "    <tr>\n",
              "      <th>5</th>\n",
              "      <td>Sandals</td>\n",
              "    </tr>\n",
              "    <tr>\n",
              "      <th>6</th>\n",
              "      <td>Shirt</td>\n",
              "    </tr>\n",
              "    <tr>\n",
              "      <th>7</th>\n",
              "      <td>Sneaker</td>\n",
              "    </tr>\n",
              "    <tr>\n",
              "      <th>8</th>\n",
              "      <td>Bag</td>\n",
              "    </tr>\n",
              "    <tr>\n",
              "      <th>9</th>\n",
              "      <td>Ankle Boots</td>\n",
              "    </tr>\n",
              "  </tbody>\n",
              "</table>\n",
              "</div>\n",
              "      <button class=\"colab-df-convert\" onclick=\"convertToInteractive('df-5988ce05-8f48-4a4a-8d88-9a99db68b015')\"\n",
              "              title=\"Convert this dataframe to an interactive table.\"\n",
              "              style=\"display:none;\">\n",
              "        \n",
              "  <svg xmlns=\"http://www.w3.org/2000/svg\" height=\"24px\"viewBox=\"0 0 24 24\"\n",
              "       width=\"24px\">\n",
              "    <path d=\"M0 0h24v24H0V0z\" fill=\"none\"/>\n",
              "    <path d=\"M18.56 5.44l.94 2.06.94-2.06 2.06-.94-2.06-.94-.94-2.06-.94 2.06-2.06.94zm-11 1L8.5 8.5l.94-2.06 2.06-.94-2.06-.94L8.5 2.5l-.94 2.06-2.06.94zm10 10l.94 2.06.94-2.06 2.06-.94-2.06-.94-.94-2.06-.94 2.06-2.06.94z\"/><path d=\"M17.41 7.96l-1.37-1.37c-.4-.4-.92-.59-1.43-.59-.52 0-1.04.2-1.43.59L10.3 9.45l-7.72 7.72c-.78.78-.78 2.05 0 2.83L4 21.41c.39.39.9.59 1.41.59.51 0 1.02-.2 1.41-.59l7.78-7.78 2.81-2.81c.8-.78.8-2.07 0-2.86zM5.41 20L4 18.59l7.72-7.72 1.47 1.35L5.41 20z\"/>\n",
              "  </svg>\n",
              "      </button>\n",
              "      \n",
              "  <style>\n",
              "    .colab-df-container {\n",
              "      display:flex;\n",
              "      flex-wrap:wrap;\n",
              "      gap: 12px;\n",
              "    }\n",
              "\n",
              "    .colab-df-convert {\n",
              "      background-color: #E8F0FE;\n",
              "      border: none;\n",
              "      border-radius: 50%;\n",
              "      cursor: pointer;\n",
              "      display: none;\n",
              "      fill: #1967D2;\n",
              "      height: 32px;\n",
              "      padding: 0 0 0 0;\n",
              "      width: 32px;\n",
              "    }\n",
              "\n",
              "    .colab-df-convert:hover {\n",
              "      background-color: #E2EBFA;\n",
              "      box-shadow: 0px 1px 2px rgba(60, 64, 67, 0.3), 0px 1px 3px 1px rgba(60, 64, 67, 0.15);\n",
              "      fill: #174EA6;\n",
              "    }\n",
              "\n",
              "    [theme=dark] .colab-df-convert {\n",
              "      background-color: #3B4455;\n",
              "      fill: #D2E3FC;\n",
              "    }\n",
              "\n",
              "    [theme=dark] .colab-df-convert:hover {\n",
              "      background-color: #434B5C;\n",
              "      box-shadow: 0px 1px 3px 1px rgba(0, 0, 0, 0.15);\n",
              "      filter: drop-shadow(0px 1px 2px rgba(0, 0, 0, 0.3));\n",
              "      fill: #FFFFFF;\n",
              "    }\n",
              "  </style>\n",
              "\n",
              "      <script>\n",
              "        const buttonEl =\n",
              "          document.querySelector('#df-5988ce05-8f48-4a4a-8d88-9a99db68b015 button.colab-df-convert');\n",
              "        buttonEl.style.display =\n",
              "          google.colab.kernel.accessAllowed ? 'block' : 'none';\n",
              "\n",
              "        async function convertToInteractive(key) {\n",
              "          const element = document.querySelector('#df-5988ce05-8f48-4a4a-8d88-9a99db68b015');\n",
              "          const dataTable =\n",
              "            await google.colab.kernel.invokeFunction('convertToInteractive',\n",
              "                                                     [key], {});\n",
              "          if (!dataTable) return;\n",
              "\n",
              "          const docLinkHtml = 'Like what you see? Visit the ' +\n",
              "            '<a target=\"_blank\" href=https://colab.research.google.com/notebooks/data_table.ipynb>data table notebook</a>'\n",
              "            + ' to learn more about interactive tables.';\n",
              "          element.innerHTML = '';\n",
              "          dataTable['output_type'] = 'display_data';\n",
              "          await google.colab.output.renderOutput(dataTable, element);\n",
              "          const docLink = document.createElement('div');\n",
              "          docLink.innerHTML = docLinkHtml;\n",
              "          element.appendChild(docLink);\n",
              "        }\n",
              "      </script>\n",
              "    </div>\n",
              "  </div>\n",
              "  "
            ]
          },
          "metadata": {},
          "execution_count": 15
        }
      ]
    },
    {
      "cell_type": "code",
      "source": [
        "# 샘플 테스트\n",
        "deep_dir = '/content/drive/MyDrive/Colab Notebooks/deep'\n",
        "\n",
        "files = os.listdir(deep_dir)\n",
        "files"
      ],
      "metadata": {
        "colab": {
          "base_uri": "https://localhost:8080/"
        },
        "id": "EUUX2C5Wc0y9",
        "outputId": "0bc7d23a-312a-4a40-fd00-731df786ffef"
      },
      "execution_count": null,
      "outputs": [
        {
          "output_type": "execute_result",
          "data": {
            "text/plain": [
              "['pullov_noun_002_29547.jpg',\n",
              " '4VDTE3GKZ72X6H3XL6DZQRB7G4.jpg',\n",
              " 'licensed-image.jpg']"
            ]
          },
          "metadata": {},
          "execution_count": 16
        }
      ]
    },
    {
      "cell_type": "code",
      "source": [
        "# rgb데이터를 흑백으로 변경(mnist는 1차원이기 때문에 기본사진의 3차원을 1차원으로 변경해주어야함)\n",
        "def rgb2gray(rgb):\n",
        "    r, g, b = rgb[:,:,0], rgb[:,:,1], rgb[:,:,2]\n",
        "    gray = 0.2989 * r + 0.5870 * g + 0.1140 * b\n",
        "    return gray"
      ],
      "metadata": {
        "id": "nVkT8DDAl1o5"
      },
      "execution_count": null,
      "outputs": []
    },
    {
      "cell_type": "code",
      "source": [
        "def load_and_preprocessing(base_dir, name, model):\n",
        "\n",
        "    image_path = base_dir+'/'+name\n",
        "    image =  tf.keras.utils.load_img(image_path, target_size=(28,28))\n",
        "    input_arr = tf.keras.utils.img_to_array(image) / 255.\n",
        "    input_arr = rgb2gray(input_arr)\n",
        "    \n",
        "    plt.imshow(input_arr)\n",
        "    plt.show()\n",
        "    \n",
        "    input_arr = np.array([input_arr])\n",
        "    predictions = model.predict(input_arr)\n",
        "    predict_class = np.argmax(predictions, axis=1) \n",
        "    print(labels.iloc[predict_class[0]])\n",
        "\n",
        "    return predict_class[0]"
      ],
      "metadata": {
        "id": "0YEHgdKRd5a_"
      },
      "execution_count": null,
      "outputs": []
    },
    {
      "cell_type": "code",
      "source": [
        "predict_class = [load_and_preprocessing(deep_dir, filename, cnn_model) for filename in files]"
      ],
      "metadata": {
        "colab": {
          "base_uri": "https://localhost:8080/",
          "height": 917
        },
        "id": "bW5JEY52eIJB",
        "outputId": "fdac70f9-9af4-4419-9c6c-e3542b6ff4b8"
      },
      "execution_count": null,
      "outputs": [
        {
          "output_type": "display_data",
          "data": {
            "text/plain": [
              "<Figure size 432x288 with 1 Axes>"
            ],
            "image/png": "[encoded data removed]"
          },
          "metadata": {
            "needs_background": "light"
          }
        },
        {
          "output_type": "stream",
          "name": "stdout",
          "text": [
            "1/1 [==============================] - 0s 18ms/step\n",
            "0    Dress\n",
            "Name: 3, dtype: object\n"
          ]
        },
        {
          "output_type": "display_data",
          "data": {
            "text/plain": [
              "<Figure size 432x288 with 1 Axes>"
            ],
            "image/png": "[encoded data removed]"
          },
          "metadata": {
            "needs_background": "light"
          }
        },
        {
          "output_type": "stream",
          "name": "stdout",
          "text": [
            "1/1 [==============================] - 0s 16ms/step\n",
            "0    Bag\n",
            "Name: 8, dtype: object\n"
          ]
        },
        {
          "output_type": "display_data",
          "data": {
            "text/plain": [
              "<Figure size 432x288 with 1 Axes>"
            ],
            "image/png": "[encoded data removed]"
          },
          "metadata": {
            "needs_background": "light"
          }
        },
        {
          "output_type": "stream",
          "name": "stdout",
          "text": [
            "1/1 [==============================] - 0s 16ms/step\n",
            "0    Bag\n",
            "Name: 8, dtype: object\n"
          ]
        }
      ]
    },
    {
      "cell_type": "markdown",
      "source": [
        "**예측값 확인**"
      ],
      "metadata": {
        "id": "3Hp4B75vinC7"
      }
    },
    {
      "cell_type": "code",
      "source": [
        "y_pred = cnn_model.predict(X_test).round(2)\n",
        "y_pred_label = list(map(np.argmax, y_pred))"
      ],
      "metadata": {
        "colab": {
          "base_uri": "https://localhost:8080/"
        },
        "id": "5AIKAYPdf_wc",
        "outputId": "f45e4e6b-efeb-40a0-e39c-612e1f2c5b80"
      },
      "execution_count": null,
      "outputs": [
        {
          "output_type": "stream",
          "name": "stdout",
          "text": [
            "313/313 [==============================] - 1s 2ms/step\n"
          ]
        }
      ]
    },
    {
      "cell_type": "code",
      "source": [
        "import seaborn as sns\n",
        "from sklearn.metrics import confusion_matrix\n",
        "\n",
        "plt.figure(figsize = (16,9))\n",
        "\n",
        "cm = confusion_matrix(y_test,y_pred_label)\n",
        "\n",
        "sns.heatmap(cm , annot = True,fmt = 'd')"
      ],
      "metadata": {
        "colab": {
          "base_uri": "https://localhost:8080/",
          "height": 554
        },
        "id": "EqhBTkB1gBa-",
        "outputId": "e0baa1c2-7039-4474-bf29-3edc2a7b4d6f"
      },
      "execution_count": null,
      "outputs": [
        {
          "output_type": "execute_result",
          "data": {
            "text/plain": [
              "<matplotlib.axes._subplots.AxesSubplot at 0x7f7f8f53bcd0>"
            ]
          },
          "metadata": {},
          "execution_count": 41
        },
        {
          "output_type": "display_data",
          "data": {
            "text/plain": [
              "<Figure size 1152x648 with 2 Axes>"
            ],
            "image/png": "[encoded data removed]"
          },
          "metadata": {
            "needs_background": "light"
          }
        }
      ]
    },
    {
      "cell_type": "markdown",
      "source": [
        "# 레즈넷\n"
      ],
      "metadata": {
        "id": "kI6cwWt3zGl9"
      }
    },
    {
      "cell_type": "code",
      "source": [
        "!pip install git+https://github.com/tensorflow/examples.git"
      ],
      "metadata": {
        "colab": {
          "base_uri": "https://localhost:8080/"
        },
        "id": "v089-Ih5_uNd",
        "outputId": "8f9086e8-0234-4699-cc38-537905cff79a"
      },
      "execution_count": null,
      "outputs": [
        {
          "output_type": "stream",
          "name": "stdout",
          "text": [
            "Looking in indexes: https://pypi.org/simple, https://us-python.pkg.dev/colab-wheels/public/simple/\n",
            "Collecting git+https://github.com/tensorflow/examples.git\n",
            "  Cloning https://github.com/tensorflow/examples.git to /tmp/pip-req-build-txhhp4oe\n",
            "  Running command git clone -q https://github.com/tensorflow/examples.git /tmp/pip-req-build-txhhp4oe\n",
            "Requirement already satisfied: absl-py in /usr/local/lib/python3.8/dist-packages (from tensorflow-examples===2741b9ea31622676451e2ce1414d233de45f915f-) (1.3.0)\n",
            "Requirement already satisfied: six in /usr/local/lib/python3.8/dist-packages (from tensorflow-examples===2741b9ea31622676451e2ce1414d233de45f915f-) (1.15.0)\n",
            "Building wheels for collected packages: tensorflow-examples\n",
            "  Building wheel for tensorflow-examples (setup.py) ... \u001b[?25l\u001b[?25hdone\n",
            "  Created wheel for tensorflow-examples: filename=tensorflow_examples-2741b9ea31622676451e2ce1414d233de45f915f_-py3-none-any.whl size=299717 sha256=c1206a87aa568b3cb5e4295dfd688e4b7a4ea7fc58b3335b9db68fcf795e0a9c\n",
            "  Stored in directory: /tmp/pip-ephem-wheel-cache-kbxiin0e/wheels/4e/f5/c2/bfe75b834c9028b2529023bf74541c46ead531b513a8010d21\n",
            "\u001b[33m  WARNING: Built wheel for tensorflow-examples is invalid: Metadata 1.2 mandates PEP 440 version, but '2741b9ea31622676451e2ce1414d233de45f915f-' is not\u001b[0m\n",
            "Failed to build tensorflow-examples\n",
            "Installing collected packages: tensorflow-examples\n",
            "    Running setup.py install for tensorflow-examples ... \u001b[?25l\u001b[?25hdone\n",
            "\u001b[33m  DEPRECATION: tensorflow-examples was installed using the legacy 'setup.py install' method, because a wheel could not be built for it. A possible replacement is to fix the wheel build issue reported above. You can find discussion regarding this at https://github.com/pypa/pip/issues/8368.\u001b[0m\n",
            "Successfully installed tensorflow-examples-2741b9ea31622676451e2ce1414d233de45f915f-\n"
          ]
        }
      ]
    },
    {
      "cell_type": "code",
      "source": [
        "import tensorflow as tf\n",
        "\n",
        "from tensorflow_examples.models.pix2pix import pix2pix\n",
        "\n",
        "\n",
        "import matplotlib.pyplot as plt"
      ],
      "metadata": {
        "id": "3q-0zRay_RqV"
      },
      "execution_count": null,
      "outputs": []
    },
    {
      "cell_type": "code",
      "source": [
        "from google.colab import drive\n",
        "\n",
        "drive.mount('/content/drive')"
      ],
      "metadata": {
        "colab": {
          "base_uri": "https://localhost:8080/"
        },
        "id": "6aM7dlBVzICX",
        "outputId": "b98ac3bf-5584-4cb9-b736-733c74b9d35f"
      },
      "execution_count": null,
      "outputs": [
        {
          "output_type": "stream",
          "name": "stdout",
          "text": [
            "Drive already mounted at /content/drive; to attempt to forcibly remount, call drive.mount(\"/content/drive\", force_remount=True).\n"
          ]
        }
      ]
    },
    {
      "cell_type": "code",
      "source": [
        "import os\n",
        "\n",
        "resnet_dir = '/content/drive/MyDrive/소피스트케이티드'\n",
        "train_file = os.listdir(resnet_dir)\n",
        "\n",
        "test_dir = '/content/drive/MyDrive/'\n",
        "test_file = os.listdir(test_dir)"
      ],
      "metadata": {
        "id": "UenK72a0LFiz"
      },
      "execution_count": null,
      "outputs": []
    },
    {
      "cell_type": "code",
      "source": [
        "def preprocessing(base_dir, name):\n",
        "\n",
        "    image_path = base_dir+'/'+name\n",
        "    image =  tf.keras.utils.load_img(image_path, target_size=(128,128))\n",
        "    input_arr = tf.keras.utils.img_to_array(image) / 255.\n",
        "    input_arr = np.array(input_arr)\n",
        "    \n",
        "    return input_arr"
      ],
      "metadata": {
        "id": "MVBOWDpFO2-n"
      },
      "execution_count": null,
      "outputs": []
    },
    {
      "cell_type": "code",
      "source": [
        "import numpy as np\n",
        "train = [preprocessing(resnet_dir, filename) for filename in train_file]"
      ],
      "metadata": {
        "id": "hhHOzZuxO4la"
      },
      "execution_count": null,
      "outputs": []
    },
    {
      "cell_type": "code",
      "source": [
        "# 숫자번째 데이터 함수에 넣어서 확인(실제로는 2로 설정하면 2개의 데이터를 불러오는데 마지막꺼만 저장되니까..)\n",
        "for image in train:\n",
        "    sample_image = image\n",
        "\n",
        "display([sample_image])"
      ],
      "metadata": {
        "id": "T5_AekjRO50K"
      },
      "execution_count": null,
      "outputs": []
    },
    {
      "cell_type": "code",
      "source": [
        "base_model = tf.keras.applications.MobileNetV2(input_shape=[128, 128, 3], include_top=False)# 분류기제거\n",
        "\n",
        "layer_names = [\n",
        "    'block_1_expand_relu',   # 64x64 input/stride\n",
        "    'block_3_expand_relu',   # 32x32\n",
        "    'block_6_expand_relu',   # 16x16\n",
        "    'block_13_expand_relu',  # 8x8\n",
        "    'block_16_project',      # 4x4\n",
        "]\n",
        "# get_layer(name) 이름에 해당하는 레이어 가져오기\n",
        "layers = [base_model.get_layer(name).output for name in layer_names]\n",
        "\n",
        "down_stack = tf.keras.Model(inputs=base_model.input, outputs=layers)\n",
        "\n",
        "down_stack.trainable = False"
      ],
      "metadata": {
        "colab": {
          "base_uri": "https://localhost:8080/"
        },
        "id": "GPBr7zlBBNKi",
        "outputId": "a710dead-b354-4384-ff80-c98334c61031"
      },
      "execution_count": null,
      "outputs": [
        {
          "output_type": "stream",
          "name": "stdout",
          "text": [
            "Downloading data from https://storage.googleapis.com/tensorflow/keras-applications/mobilenet_v2/mobilenet_v2_weights_tf_dim_ordering_tf_kernels_1.0_128_no_top.h5\n",
            "9406464/9406464 [==============================] - 0s 0us/step\n"
          ]
        }
      ]
    },
    {
      "cell_type": "code",
      "source": [
        "up_stack = [\n",
        "    pix2pix.upsample(512, 3),  # 4x4 -> 8x8\n",
        "    pix2pix.upsample(256, 3),  # 8x8 -> 16x16\n",
        "    pix2pix.upsample(128, 3),  # 16x16 -> 32x32\n",
        "    pix2pix.upsample(64, 3),   # 32x32 -> 64x64\n",
        "]"
      ],
      "metadata": {
        "id": "DWMMpIATBQr5"
      },
      "execution_count": null,
      "outputs": []
    },
    {
      "cell_type": "code",
      "source": [
        "def unet_model(output_channels):\n",
        "    \"\"\"\n",
        "    모델을 정의하는 함수입니다.\n",
        "    \"\"\"\n",
        "    inputs = tf.keras.layers.Input(shape=[128, 128, 3])\n",
        "    x = inputs\n",
        "\n",
        "    # Downsampling\n",
        "    skips = down_stack(x)\n",
        "    x = skips[-1]                # x = 다운샘플 마지막층\n",
        "    skips = reversed(skips[:-1]) # skips = 다운샘플층을 거꾸로 뒤집은 리스트\n",
        "\n",
        "    # Upsampling\n",
        "    for up, skip in zip(up_stack, skips): # 업샘플링과 다운샘플링을 뒤집은 형태\n",
        "        x = up(x)                         # 업샘플링에 다운샘플링 마지막층을 연결\n",
        "        \n",
        "        concat = tf.keras.layers.Concatenate()  \n",
        "        x = concat([x, skip])                  # Downsampling 결과를 Concatenate 해줍니다.(기울기소실 예방)\n",
        "\n",
        "    # 출력되는 이미지 크기를 동일하게 하기 위해 마지막 층을 구현합니다.\n",
        "    last = tf.keras.layers.Conv2DTranspose(output_channels, \n",
        "                                           3, \n",
        "                                           padding='same',\n",
        "                                           strides=2        )  # 마지막층 인풋 64x64 -> 128x128\n",
        "\n",
        "    x = last(x)\n",
        "\n",
        "    return tf.keras.Model(inputs=inputs, outputs=x)"
      ],
      "metadata": {
        "id": "gZxUyp_4BSVF"
      },
      "execution_count": null,
      "outputs": []
    },
    {
      "cell_type": "code",
      "source": [
        "OUTPUT_CHANNELS=3\n",
        "model = unet_model(OUTPUT_CHANNELS)"
      ],
      "metadata": {
        "id": "ZOx3OCwHBS3H"
      },
      "execution_count": null,
      "outputs": []
    },
    {
      "cell_type": "code",
      "source": [
        "model.compile(optimizer='adam',\n",
        "              # 출력값이 nomalize되어 있으면(softmax처럼) False 아니면 nomalize되어있지 않으면True\n",
        "              loss=tf.keras.losses.SparseCategoricalCrossentropy(from_logits=True), \n",
        "              metrics=['accuracy'])"
      ],
      "metadata": {
        "id": "ZFn70uZ_BX-U"
      },
      "execution_count": null,
      "outputs": []
    },
    {
      "cell_type": "code",
      "source": [
        "model.summary()"
      ],
      "metadata": {
        "colab": {
          "base_uri": "https://localhost:8080/"
        },
        "id": "GbGwX4JsBcLU",
        "outputId": "047ab629-f99c-45d5-e5cd-a7269f994363"
      },
      "execution_count": null,
      "outputs": [
        {
          "output_type": "stream",
          "name": "stdout",
          "text": [
            "Model: \"model_1\"\n",
            "__________________________________________________________________________________________________\n",
            " Layer (type)                   Output Shape         Param #     Connected to                     \n",
            "==================================================================================================\n",
            " input_2 (InputLayer)           [(None, 128, 128, 3  0           []                               \n",
            "                                )]                                                                \n",
            "                                                                                                  \n",
            " model (Functional)             [(None, 64, 64, 96)  1841984     ['input_2[0][0]']                \n",
            "                                , (None, 32, 32, 14                                               \n",
            "                                4),                                                               \n",
            "                                 (None, 16, 16, 192                                               \n",
            "                                ),                                                                \n",
            "                                 (None, 8, 8, 576),                                               \n",
            "                                 (None, 4, 4, 320)]                                               \n",
            "                                                                                                  \n",
            " sequential (Sequential)        (None, 8, 8, 512)    1476608     ['model[0][4]']                  \n",
            "                                                                                                  \n",
            " concatenate (Concatenate)      (None, 8, 8, 1088)   0           ['sequential[0][0]',             \n",
            "                                                                  'model[0][3]']                  \n",
            "                                                                                                  \n",
            " sequential_1 (Sequential)      (None, 16, 16, 256)  2507776     ['concatenate[0][0]']            \n",
            "                                                                                                  \n",
            " concatenate_1 (Concatenate)    (None, 16, 16, 448)  0           ['sequential_1[0][0]',           \n",
            "                                                                  'model[0][2]']                  \n",
            "                                                                                                  \n",
            " sequential_2 (Sequential)      (None, 32, 32, 128)  516608      ['concatenate_1[0][0]']          \n",
            "                                                                                                  \n",
            " concatenate_2 (Concatenate)    (None, 32, 32, 272)  0           ['sequential_2[0][0]',           \n",
            "                                                                  'model[0][1]']                  \n",
            "                                                                                                  \n",
            " sequential_3 (Sequential)      (None, 64, 64, 64)   156928      ['concatenate_2[0][0]']          \n",
            "                                                                                                  \n",
            " concatenate_3 (Concatenate)    (None, 64, 64, 160)  0           ['sequential_3[0][0]',           \n",
            "                                                                  'model[0][0]']                  \n",
            "                                                                                                  \n",
            " conv2d_transpose_4 (Conv2DTran  (None, 128, 128, 3)  4323       ['concatenate_3[0][0]']          \n",
            " spose)                                                                                           \n",
            "                                                                                                  \n",
            "==================================================================================================\n",
            "Total params: 6,504,227\n",
            "Trainable params: 4,660,323\n",
            "Non-trainable params: 1,843,904\n",
            "__________________________________________________________________________________________________\n"
          ]
        }
      ]
    },
    {
      "cell_type": "code",
      "source": [
        "def load_and_preprocessing(base_dir, name, model):\n",
        "\n",
        "    image_path = base_dir+'/'+name\n",
        "    image =  tf.keras.utils.load_img(image_path, target_size=(128,128))\n",
        "    input_arr = tf.keras.utils.img_to_array(image) / 255.\n",
        "    \n",
        "    plt.imshow(input_arr)\n",
        "    plt.show()\n",
        "    \n",
        "    input_arr = np.array([input_arr])\n",
        "    predictions = model.predict(input_arr)\n",
        "    predict_class = np.argmax(predictions, axis=1) \n",
        "    print(labels.iloc[predict_class[0]])\n",
        "\n",
        "    return predict_class[0]"
      ],
      "metadata": {
        "id": "bVioKndpAak_"
      },
      "execution_count": null,
      "outputs": []
    },
    {
      "cell_type": "markdown",
      "source": [
        "# 체크포인트"
      ],
      "metadata": {
        "id": "1FrSlyE7C8fc"
      }
    },
    {
      "cell_type": "code",
      "execution_count": null,
      "metadata": {
        "id": "r95zi8miC23j"
      },
      "outputs": [],
      "source": [
        "# # 파라미터 저장 경로를 설정하는 코드입니다.\n",
        "# checkpoint_filepath = \"FMbest.hdf5\"\n",
        "\n",
        "# early_stop = keras.callbacks.EarlyStopping(monitor='val_loss', min_delta=0, patience=10, verbose=1)\n"
      ]
    },
    {
      "cell_type": "code",
      "source": [
        "# save_best = tf.keras.callbacks.ModelCheckpoint(\n",
        "#     filepath=checkpoint_filepath, monitor='val_loss', verbose=1, save_best_only=True,\n",
        "#     save_weights_only=True, mode='auto', save_freq='epoch', options=None)"
      ],
      "metadata": {
        "id": "lLHW17ajC52n"
      },
      "execution_count": null,
      "outputs": []
    },
    {
      "cell_type": "code",
      "source": [
        "# model.fit(X_train, y_train, batch_size=32, epochs=30, verbose=1, \n",
        "#           validation_data=(X_test,y_test), \n",
        "#           callbacks=[early_stop, save_best])"
      ],
      "metadata": {
        "id": "XeUkIAqiC7FJ"
      },
      "execution_count": null,
      "outputs": []
    },
    {
      "cell_type": "code",
      "source": [
        "# # 모델 불러와서 가중치 계산\n",
        "# model.load_weights(checkpoint_filepath)"
      ],
      "metadata": {
        "id": "9NzpxyYNDTYF"
      },
      "execution_count": null,
      "outputs": []
    }
  ]
}